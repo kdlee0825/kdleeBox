{
 "cells": [
  {
   "cell_type": "code",
   "execution_count": null,
   "metadata": {},
   "outputs": [],
   "source": [
    "# step = winodow size n_input = 칼럼수\n",
    "\n",
    "# relu,elu 등 다양한 액티베이션을 써보자"
    "\n",
    "from tensorflow.keras.layers import LSTM, RNN, Input, Dense, Conv1D, MaxPool1D, Flatten\n",
    "from tensorflow.keras.models import Model\n",
    "from tensorflow.keras import layers\n",
    "step=200\n",
    "n_inputs = 42\n",
    "n_hiddens = 128\n",
    "n_outputs = 1\n",
    "\n",
    "inputs = Input(shape=(step, n_inputs))\n",
    "cnn1= Conv1D(filters=16,kernel_size=7,activation='relu',padding='same')(inputs)\n",
    "cnn2= Conv1D(filters=16,kernel_size=4,activation='relu',padding='same')(cnn1)\n",
    "maxpooling1=MaxPool1D(2,2,padding='same')(cnn2)\n",
    "cnn3= Conv1D(filters=16,kernel_size=2,activation='relu',padding='same')(maxpooling1)\n",
    "cnn4= Conv1D(filters=16,kernel_size=2,activation='relu',padding='same')(cnn3)\n",
    "maxpooling2=MaxPool1D(2,2,padding='same')(cnn4)\n",
    "\n",
    "flat=Flatten()(maxpooling2)\n",
    "hidden1 = Dense(48,activation='relu')(flat)\n",
    "output = Dense(n_outputs,activation='relu')(hidden1)\n",
    "\n",
    "model = Model(inputs,output)\n",
    "model.summary()"
   ]
  },
  {
   "cell_type": "code",
   "execution_count": null,
   "metadata": {},
   "outputs": [],
   "source": [
    "early_stopping = EarlyStopping(patience = 20)\n",
    "model.compile(optimizer='adam', loss='mse',metrics=['mae'])\n",
    "history = model.fit(X_train, Y_train, epochs= 20, batch_size=42,validation_data=(X_test,Y_test),callbacks=[early_stopping])"
   ]
  }
 ],
 "metadata": {
  "kernelspec": {
   "display_name": "Python 3",
   "language": "python",
   "name": "python3"
  },
  "language_info": {
   "codemirror_mode": {
    "name": "ipython",
    "version": 3
   },
   "file_extension": ".py",
   "mimetype": "text/x-python",
   "name": "python",
   "nbconvert_exporter": "python",
   "pygments_lexer": "ipython3",
   "version": "3.7.6"
  }
 },
 "nbformat": 4,
 "nbformat_minor": 4
}
