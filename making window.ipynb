{
 "cells": [
  {
   "cell_type": "code",
   "execution_count": 85,
   "metadata": {},
   "outputs": [],
   "source": [
    "\n",
    "import pandas as pd\n",
    "import numpy as np \n",
    "from tqdm import tqdm\n",
    "import time\n",
    "\n",
    "#tqdm 모듈은 진행상황을 알려준다.\n",
    "\n",
    "#df = dataframe, size = 윈도우 크기 \n",
    "def convert_to_timeseries(df, size):\n",
    "    sequence_list = []\n",
    "    \n",
    "    for i in tqdm(range(0,df.shape[0] - interval)):\n",
    "        sequence_list.append(np.array(df.iloc[i:i+interval,:]))\n",
    "        \n",
    "    sequence = np.array(sequence_list)\n",
    "    \n",
    "    return sequnce\n",
    "    \n",
    "\n",
    "\n",
    "#df = dataframe, size = 윈도우 크기 , empty = 간격\n",
    "\n",
    "def convert_to_timeseries_t(df, interval, empty):\n",
    "    target_list = []\n",
    "    \n",
    "    for i in tqdm(range(0,df.shape[0] - interval,empty)):\n",
    "        target_list.append(np.array(df.iloc[i:i+interval,:]))\n",
    "    \n",
    "    target = np.array(target_list)\n",
    "    \n",
    "    return target"
   ]
  }
 ],
 "metadata": {
  "kernelspec": {
   "display_name": "Python 3",
   "language": "python",
   "name": "python3"
  },
  "language_info": {
   "codemirror_mode": {
    "name": "ipython",
    "version": 3
   },
   "file_extension": ".py",
   "mimetype": "text/x-python",
   "name": "python",
   "nbconvert_exporter": "python",
   "pygments_lexer": "ipython3",
   "version": "3.7.6"
  }
 },
 "nbformat": 4,
 "nbformat_minor": 4
}
